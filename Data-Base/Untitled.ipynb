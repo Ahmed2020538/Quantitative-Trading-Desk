{
 "cells": [
  {
   "cell_type": "code",
   "execution_count": 2,
   "id": "735a8445",
   "metadata": {},
   "outputs": [
    {
     "name": "stdout",
     "output_type": "stream",
     "text": [
      "Requirement already satisfied: cx_Oracle in c:\\users\\ahmad.elsayed\\anaconda3\\lib\\site-packages (8.3.0)\n",
      "Note: you may need to restart the kernel to use updated packages.\n"
     ]
    }
   ],
   "source": [
    "pip install cx_Oracle"
   ]
  },
  {
   "cell_type": "code",
   "execution_count": 3,
   "id": "b957707d",
   "metadata": {},
   "outputs": [
    {
     "name": "stdout",
     "output_type": "stream",
     "text": [
      "Requirement already satisfied: cx_Oracle in c:\\users\\ahmad.elsayed\\anaconda3\\lib\\site-packages (8.3.0)\n",
      "Note: you may need to restart the kernel to use updated packages.\n"
     ]
    }
   ],
   "source": [
    "pip install cx_Oracle"
   ]
  },
  {
   "cell_type": "code",
   "execution_count": null,
   "id": "dca69b86",
   "metadata": {},
   "outputs": [],
   "source": []
  }
 ],
 "metadata": {
  "kernelspec": {
   "display_name": "Python 3",
   "language": "python",
   "name": "python3"
  },
  "language_info": {
   "codemirror_mode": {
    "name": "ipython",
    "version": 3
   },
   "file_extension": ".py",
   "mimetype": "text/x-python",
   "name": "python",
   "nbconvert_exporter": "python",
   "pygments_lexer": "ipython3",
   "version": "3.8.8"
  }
 },
 "nbformat": 4,
 "nbformat_minor": 5
}
