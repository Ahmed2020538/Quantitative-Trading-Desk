{
 "cells": [
  {
   "cell_type": "code",
   "execution_count": 12,
   "id": "d6e3971b",
   "metadata": {},
   "outputs": [],
   "source": [
    "# Load Requairies Package:\n",
    "#-------------------------\n",
    "import pandas as pd\n",
    "import cx_Oracle\n",
    "import datetime\n",
    "import csv\n",
    "import time\n",
    "import sys\n"
   ]
  },
  {
   "cell_type": "code",
   "execution_count": 17,
   "id": "bf34d874",
   "metadata": {},
   "outputs": [
    {
     "name": "stdout",
     "output_type": "stream",
     "text": [
      "11.2.0.4.0\n",
      "  EGX30_CAP_SYMBOLS\n",
      "====================\n",
      "      SYMBOL_CODE SYMBOL_TYPE SECTOR_ID  \\\n",
      "0    EGS02211C018         210        19   \n",
      "1    EGS3D0C1C018         210         2   \n",
      "2    EGS69191C012         210        11   \n",
      "3    EGS69182C011         210        24   \n",
      "4    EGBGH00281V7         214         0   \n",
      "..            ...         ...       ...   \n",
      "485  EGS38381C017         210         2   \n",
      "486  EGS39011C019         210        17   \n",
      "487  EGS3C071C015         210        27   \n",
      "488  EGS3C151C015         210        27   \n",
      "489  EGS3C251C013         210         2   \n",
      "\n",
      "                                     ENG_NAME  \\\n",
      "0                           Egypt for Poultry   \n",
      "1                 Misr National Steel - Ataqa   \n",
      "2                Reacap Financial Investments   \n",
      "3                               Naeem Holding   \n",
      "4                 Housing Bonds Dec 2010/2025   \n",
      "..                                        ...   \n",
      "485           Egyptian Financial & Industrial   \n",
      "486  Natural Gas & Mining Project (Egypt Gas)   \n",
      "487                  El Ezz Porcelain (Gemma)   \n",
      "488      The Arab Ceramic CO.- Ceramica Remas   \n",
      "489                                 Ezz Steel   \n",
      "\n",
      "                                 ARB_NAME  ISIN               REUTERS  \\\n",
      "0                         المصرية للدواجن  None  EPCO.CA                \n",
      "1               مصر الوطنية للصلب - عتاقة  None  ATQA.CA                \n",
      "2              ريكاب  للاستثمارات المالية  None  REAC.CA                \n",
      "3              النعيم القابضة للاستثمارات  None  NAHO.CA                \n",
      "4          سندات الاسكان ديسمبر 2025/2010  None  EG120525=CA            \n",
      "..                                    ...   ...                   ...   \n",
      "485            المالية و الصناعية المصرية  None  EFIC.CA                \n",
      "486                               غاز مصر  None  EGAS.CA                \n",
      "487  العز للسيراميك و البورسلين - الجوهره  None  ECAP.CA                \n",
      "488        العربية للخزف - سيراميكا ريماس  None  CERA.CA                \n",
      "489                               حديد عز  None  ESRS.CA                \n",
      "\n",
      "    CURRENCY BOND_TYPE  LISTED_SHARES  ...               COUPON_VALUE  \\\n",
      "0        1        None   4.257000e+07  ...  .25                         \n",
      "1        1        None   1.200000e+09  ...  4.997                       \n",
      "2        1        None   1.103970e+08  ...                       None   \n",
      "3        2        None   3.504146e+08  ...  .065                        \n",
      "4        1        None   9.867900e+05  ...                       None   \n",
      "..       ...       ...            ...  ...                        ...   \n",
      "485      1        None   7.276671e+07  ...  5                           \n",
      "486      1        None   9.614823e+07  ...  1.25                        \n",
      "487      1        None   5.334251e+07  ...  .9                          \n",
      "488      1        None   7.187500e+08  ...  .15                         \n",
      "489      1        None   5.432650e+08  ...  .8                          \n",
      "\n",
      "     COUPON_DATE    NET_PROFIT NET_PROFIT_DATE    EPS PE_RATIO  \\\n",
      "0     2004-08-15 -3.754332e+06            None  -0.09     0.00   \n",
      "1     2014-04-30  2.347241e+08            None   0.20     7.84   \n",
      "2            NaT  4.643396e+07            None   0.42     7.42   \n",
      "3     2013-04-28  2.417838e+06            None   0.01    17.39   \n",
      "4            NaT           NaN            None    NaN     0.00   \n",
      "..           ...           ...             ...    ...      ...   \n",
      "485   2023-04-19  7.558553e+08            None  10.39     4.42   \n",
      "486   2023-04-13  3.019674e+08            None   3.14    10.17   \n",
      "487   2023-04-20  1.711239e+08            None   3.21     5.65   \n",
      "488   2021-04-28  1.949900e+07            None   0.03    26.98   \n",
      "489   2022-06-15  6.647424e+09            None  12.24     2.92   \n",
      "\n",
      "     LAST_TRADE_DATE  DIVIDEND_YIELD_PERC    MARKET_CAP  OPEN_PRICE  \n",
      "0         2023-06-21                0.000  1.179189e+08       2.770  \n",
      "1         2023-06-21                0.000  1.839600e+09       1.533  \n",
      "2         2023-06-21                0.000  3.444385e+08       3.120  \n",
      "3         2023-06-21                0.000  4.204976e+07       0.120  \n",
      "4         2011-10-10                0.000  7.400925e+07      75.000  \n",
      "..               ...                  ...           ...         ...  \n",
      "485       2023-06-21               10.884  3.342903e+09      45.940  \n",
      "486       2023-06-21                3.915  3.070013e+09      31.930  \n",
      "487       2023-06-21                4.970  9.660329e+08      18.110  \n",
      "488       2023-06-21                0.000  5.261250e+08       0.732  \n",
      "489       2023-06-21                0.000  1.939456e+10      35.700  \n",
      "\n",
      "[490 rows x 22 columns] \n"
     ]
    }
   ],
   "source": [
    "# read EGX30_CAP_SYMBOLS Tickers\n",
    "#--------------------------------\n",
    "def fetch_data():\n",
    "    con = cx_Oracle.connect('STOCK/P3rXdM5HbSgQRmCS@10.1.20.41:1521/STOCK')\n",
    "    print (con.version)\n",
    "    sql_EGX30_CAP_SYMBOLS = \"SELECT * from SYMBOLINFO\"\n",
    "    cursor = con.cursor()    \n",
    "    df_EGX30_CAP_SYMBOLS = pd.read_sql(sql_EGX30_CAP_SYMBOLS, con)\n",
    "    #df_EGX30_CAP_SYMBOLS.REUTERS = df_EGX30_CAP_SYMBOLS.REUTERS.apply(lambda x : x.split(\".\")[0])\n",
    "    df_EGX30_CAP_SYMBOLS.to_csv(\"EGX30_CAP_SYMBOLS(EGX30_CAP).csv\")\n",
    "    df_EGX30_CAP_SYMBOLS.REUTERS.to_csv(\"EGX30_CAP_SYMBOLS(EGX30_CAP).csv\")\n",
    "    print(f\"  EGX30_CAP_SYMBOLS\\n====================\\n{df_EGX30_CAP_SYMBOLS} \")\n",
    "fetch_data()"
   ]
  },
  {
   "cell_type": "code",
   "execution_count": 14,
   "id": "a573427b",
   "metadata": {},
   "outputs": [
    {
     "name": "stdout",
     "output_type": "stream",
     "text": [
      "11.2.0.4.0\n",
      "  EGX30_CAP_SYMBOLS\n",
      "====================\n",
      "     SYMBOL_CODE REUTERS\n",
      "0   EGS39061C014    None\n",
      "1   EGS65541C012    None\n",
      "2   EGS597R1C017    None\n",
      "3   EGS305I1C011    None\n",
      "4   EGS691S1C011    None\n",
      "5   EGS65571C019    None\n",
      "6   EGS60121C018    None\n",
      "7   EGS60111C019    None\n",
      "8   EGS69101C011    None\n",
      "9   EGS655L1C012    None\n",
      "10  EGS37091C013    None\n",
      "11  EGS60041C018    None\n",
      "12  EGS38191C010    None\n",
      "13  EGS3C251C013    None\n",
      "14  EGS512O1C012    None\n",
      "15  EGS729J1C018    None\n",
      "16  EGS3G0Z1C014    None\n",
      "17  EGS381B1C015    None\n",
      "18  EGS743O1C013    None\n",
      "19  EGS69082C013    None\n",
      "20  EGS33041C012    None\n",
      "21  EGS73541C012    None\n",
      "22  EGS48031C016    None\n",
      "23  EGS673T1C012    None\n",
      "24  EGS745L1C014    None\n",
      "25  EGS69081C023    None\n",
      "26  EGS95001C011    None\n",
      "27  EGS65591C017    None\n",
      "28  EGS380P1C010    None\n",
      "29  EGS380S1C017    None\n",
      "30  EGS30901C010    None \n"
     ]
    }
   ],
   "source": [
    "# read EGX30_CAP_SYMBOLS Tickers\n",
    "#--------------------------------\n",
    "def fetch_data():\n",
    "    con = cx_Oracle.connect('STOCK/P3rXdM5HbSgQRmCS@10.1.20.41:1521/STOCK')\n",
    "    print (con.version)\n",
    "    sql_EGX30_CAP_SYMBOLS = \"\"\"SELECT EGX30_CAP_SYMBOLS.SYMBOL_CODE , SYMBOLINFO.REUTERS\n",
    "                    from EGX30_CAP_SYMBOLS LEFT JOIN SYMBOLINFO\n",
    "                    ON EGX30_CAP_SYMBOLS.SYMBOL_CODE = SYMBOLINFO.SYMBOL_CODE \"\"\"\n",
    "    cursor = con.cursor()    \n",
    "    df_EGX30_CAP_SYMBOLS = pd.read_sql(sql_EGX30_CAP_SYMBOLS, con)\n",
    "    #df_EGX30_CAP_SYMBOLS.REUTERS = df_EGX30_CAP_SYMBOLS.REUTERS.apply(lambda x : x.split(\".\")[0])\n",
    "    df_EGX30_CAP_SYMBOLS.to_csv(\"EGX30_CAP_SYMBOLS(EGX30_CAP).csv\")\n",
    "    df_EGX30_CAP_SYMBOLS.REUTERS.to_csv(\"EGX30_CAP_SYMBOLS(EGX30_CAP).csv\")\n",
    "    print(f\"  EGX30_CAP_SYMBOLS\\n====================\\n{df_EGX30_CAP_SYMBOLS} \")\n",
    "fetch_data()"
   ]
  },
  {
   "cell_type": "code",
   "execution_count": 8,
   "id": "45dba78a",
   "metadata": {},
   "outputs": [
    {
     "name": "stdout",
     "output_type": "stream",
     "text": [
      "11.2.0.4.0\n"
     ]
    },
    {
     "ename": "AttributeError",
     "evalue": "'NoneType' object has no attribute 'split'",
     "output_type": "error",
     "traceback": [
      "\u001b[1;31m---------------------------------------------------------------------------\u001b[0m",
      "\u001b[1;31mAttributeError\u001b[0m                            Traceback (most recent call last)",
      "\u001b[1;32m<ipython-input-8-490368c42427>\u001b[0m in \u001b[0;36m<module>\u001b[1;34m\u001b[0m\n\u001b[0;32m     13\u001b[0m     \u001b[1;31m#df_EGX30_CAP_SYMBOLS.REUTERS.to_csv(\"EGX30_CAP_SYMBOLS(EGX30_CAP).csv\")\u001b[0m\u001b[1;33m\u001b[0m\u001b[1;33m\u001b[0m\u001b[1;33m\u001b[0m\u001b[0m\n\u001b[0;32m     14\u001b[0m     \u001b[0mprint\u001b[0m\u001b[1;33m(\u001b[0m\u001b[1;34mf\"  EGX30_SYMBOLS\\n====================\\n{df_CASE30_COMP_SYMBOLS} \"\u001b[0m\u001b[1;33m)\u001b[0m\u001b[1;33m\u001b[0m\u001b[1;33m\u001b[0m\u001b[0m\n\u001b[1;32m---> 15\u001b[1;33m \u001b[0mfetch_data\u001b[0m\u001b[1;33m(\u001b[0m\u001b[1;33m)\u001b[0m\u001b[1;33m\u001b[0m\u001b[1;33m\u001b[0m\u001b[0m\n\u001b[0m",
      "\u001b[1;32m<ipython-input-8-490368c42427>\u001b[0m in \u001b[0;36mfetch_data\u001b[1;34m()\u001b[0m\n\u001b[0;32m      9\u001b[0m     \u001b[0mcursor\u001b[0m \u001b[1;33m=\u001b[0m \u001b[0mcon\u001b[0m\u001b[1;33m.\u001b[0m\u001b[0mcursor\u001b[0m\u001b[1;33m(\u001b[0m\u001b[1;33m)\u001b[0m\u001b[1;33m\u001b[0m\u001b[1;33m\u001b[0m\u001b[0m\n\u001b[0;32m     10\u001b[0m     \u001b[0mdf_CASE30_COMP_SYMBOLS\u001b[0m \u001b[1;33m=\u001b[0m \u001b[0mpd\u001b[0m\u001b[1;33m.\u001b[0m\u001b[0mread_sql\u001b[0m\u001b[1;33m(\u001b[0m\u001b[0msql_CASE30_COMP_SYMBOLS\u001b[0m\u001b[1;33m,\u001b[0m \u001b[0mcon\u001b[0m\u001b[1;33m)\u001b[0m\u001b[1;33m\u001b[0m\u001b[1;33m\u001b[0m\u001b[0m\n\u001b[1;32m---> 11\u001b[1;33m     \u001b[0mdf_CASE30_COMP_SYMBOLS\u001b[0m\u001b[1;33m.\u001b[0m\u001b[0mREUTERS\u001b[0m \u001b[1;33m=\u001b[0m \u001b[0mdf_CASE30_COMP_SYMBOLS\u001b[0m\u001b[1;33m.\u001b[0m\u001b[0mREUTERS\u001b[0m\u001b[1;33m.\u001b[0m\u001b[0mapply\u001b[0m\u001b[1;33m(\u001b[0m\u001b[1;32mlambda\u001b[0m \u001b[0mx\u001b[0m \u001b[1;33m:\u001b[0m \u001b[0mx\u001b[0m\u001b[1;33m.\u001b[0m\u001b[0msplit\u001b[0m\u001b[1;33m(\u001b[0m\u001b[1;34m\".\"\u001b[0m\u001b[1;33m)\u001b[0m\u001b[1;33m[\u001b[0m\u001b[1;36m0\u001b[0m\u001b[1;33m]\u001b[0m\u001b[1;33m)\u001b[0m\u001b[1;33m\u001b[0m\u001b[1;33m\u001b[0m\u001b[0m\n\u001b[0m\u001b[0;32m     12\u001b[0m     \u001b[0mdf_CASE30_COMP_SYMBOLS\u001b[0m\u001b[1;33m.\u001b[0m\u001b[0mto_csv\u001b[0m\u001b[1;33m(\u001b[0m\u001b[1;34m\"EGX30_SYMBOLS(EGX30).csv\"\u001b[0m\u001b[1;33m)\u001b[0m\u001b[1;33m\u001b[0m\u001b[1;33m\u001b[0m\u001b[0m\n\u001b[0;32m     13\u001b[0m     \u001b[1;31m#df_EGX30_CAP_SYMBOLS.REUTERS.to_csv(\"EGX30_CAP_SYMBOLS(EGX30_CAP).csv\")\u001b[0m\u001b[1;33m\u001b[0m\u001b[1;33m\u001b[0m\u001b[1;33m\u001b[0m\u001b[0m\n",
      "\u001b[1;32m~\\Anaconda3\\lib\\site-packages\\pandas\\core\\series.py\u001b[0m in \u001b[0;36mapply\u001b[1;34m(self, func, convert_dtype, args, **kwds)\u001b[0m\n\u001b[0;32m   4136\u001b[0m             \u001b[1;32melse\u001b[0m\u001b[1;33m:\u001b[0m\u001b[1;33m\u001b[0m\u001b[1;33m\u001b[0m\u001b[0m\n\u001b[0;32m   4137\u001b[0m                 \u001b[0mvalues\u001b[0m \u001b[1;33m=\u001b[0m \u001b[0mself\u001b[0m\u001b[1;33m.\u001b[0m\u001b[0mastype\u001b[0m\u001b[1;33m(\u001b[0m\u001b[0mobject\u001b[0m\u001b[1;33m)\u001b[0m\u001b[1;33m.\u001b[0m\u001b[0m_values\u001b[0m\u001b[1;33m\u001b[0m\u001b[1;33m\u001b[0m\u001b[0m\n\u001b[1;32m-> 4138\u001b[1;33m                 \u001b[0mmapped\u001b[0m \u001b[1;33m=\u001b[0m \u001b[0mlib\u001b[0m\u001b[1;33m.\u001b[0m\u001b[0mmap_infer\u001b[0m\u001b[1;33m(\u001b[0m\u001b[0mvalues\u001b[0m\u001b[1;33m,\u001b[0m \u001b[0mf\u001b[0m\u001b[1;33m,\u001b[0m \u001b[0mconvert\u001b[0m\u001b[1;33m=\u001b[0m\u001b[0mconvert_dtype\u001b[0m\u001b[1;33m)\u001b[0m\u001b[1;33m\u001b[0m\u001b[1;33m\u001b[0m\u001b[0m\n\u001b[0m\u001b[0;32m   4139\u001b[0m \u001b[1;33m\u001b[0m\u001b[0m\n\u001b[0;32m   4140\u001b[0m         \u001b[1;32mif\u001b[0m \u001b[0mlen\u001b[0m\u001b[1;33m(\u001b[0m\u001b[0mmapped\u001b[0m\u001b[1;33m)\u001b[0m \u001b[1;32mand\u001b[0m \u001b[0misinstance\u001b[0m\u001b[1;33m(\u001b[0m\u001b[0mmapped\u001b[0m\u001b[1;33m[\u001b[0m\u001b[1;36m0\u001b[0m\u001b[1;33m]\u001b[0m\u001b[1;33m,\u001b[0m \u001b[0mSeries\u001b[0m\u001b[1;33m)\u001b[0m\u001b[1;33m:\u001b[0m\u001b[1;33m\u001b[0m\u001b[1;33m\u001b[0m\u001b[0m\n",
      "\u001b[1;32mpandas\\_libs\\lib.pyx\u001b[0m in \u001b[0;36mpandas._libs.lib.map_infer\u001b[1;34m()\u001b[0m\n",
      "\u001b[1;32m<ipython-input-8-490368c42427>\u001b[0m in \u001b[0;36m<lambda>\u001b[1;34m(x)\u001b[0m\n\u001b[0;32m      9\u001b[0m     \u001b[0mcursor\u001b[0m \u001b[1;33m=\u001b[0m \u001b[0mcon\u001b[0m\u001b[1;33m.\u001b[0m\u001b[0mcursor\u001b[0m\u001b[1;33m(\u001b[0m\u001b[1;33m)\u001b[0m\u001b[1;33m\u001b[0m\u001b[1;33m\u001b[0m\u001b[0m\n\u001b[0;32m     10\u001b[0m     \u001b[0mdf_CASE30_COMP_SYMBOLS\u001b[0m \u001b[1;33m=\u001b[0m \u001b[0mpd\u001b[0m\u001b[1;33m.\u001b[0m\u001b[0mread_sql\u001b[0m\u001b[1;33m(\u001b[0m\u001b[0msql_CASE30_COMP_SYMBOLS\u001b[0m\u001b[1;33m,\u001b[0m \u001b[0mcon\u001b[0m\u001b[1;33m)\u001b[0m\u001b[1;33m\u001b[0m\u001b[1;33m\u001b[0m\u001b[0m\n\u001b[1;32m---> 11\u001b[1;33m     \u001b[0mdf_CASE30_COMP_SYMBOLS\u001b[0m\u001b[1;33m.\u001b[0m\u001b[0mREUTERS\u001b[0m \u001b[1;33m=\u001b[0m \u001b[0mdf_CASE30_COMP_SYMBOLS\u001b[0m\u001b[1;33m.\u001b[0m\u001b[0mREUTERS\u001b[0m\u001b[1;33m.\u001b[0m\u001b[0mapply\u001b[0m\u001b[1;33m(\u001b[0m\u001b[1;32mlambda\u001b[0m \u001b[0mx\u001b[0m \u001b[1;33m:\u001b[0m \u001b[0mx\u001b[0m\u001b[1;33m.\u001b[0m\u001b[0msplit\u001b[0m\u001b[1;33m(\u001b[0m\u001b[1;34m\".\"\u001b[0m\u001b[1;33m)\u001b[0m\u001b[1;33m[\u001b[0m\u001b[1;36m0\u001b[0m\u001b[1;33m]\u001b[0m\u001b[1;33m)\u001b[0m\u001b[1;33m\u001b[0m\u001b[1;33m\u001b[0m\u001b[0m\n\u001b[0m\u001b[0;32m     12\u001b[0m     \u001b[0mdf_CASE30_COMP_SYMBOLS\u001b[0m\u001b[1;33m.\u001b[0m\u001b[0mto_csv\u001b[0m\u001b[1;33m(\u001b[0m\u001b[1;34m\"EGX30_SYMBOLS(EGX30).csv\"\u001b[0m\u001b[1;33m)\u001b[0m\u001b[1;33m\u001b[0m\u001b[1;33m\u001b[0m\u001b[0m\n\u001b[0;32m     13\u001b[0m     \u001b[1;31m#df_EGX30_CAP_SYMBOLS.REUTERS.to_csv(\"EGX30_CAP_SYMBOLS(EGX30_CAP).csv\")\u001b[0m\u001b[1;33m\u001b[0m\u001b[1;33m\u001b[0m\u001b[1;33m\u001b[0m\u001b[0m\n",
      "\u001b[1;31mAttributeError\u001b[0m: 'NoneType' object has no attribute 'split'"
     ]
    }
   ],
   "source": [
    "# read EGX30_CAP_SYMBOLS Tickers\n",
    "#--------------------------------\n",
    "def fetch_data():\n",
    "    con = cx_Oracle.connect('STOCK/P3rXdM5HbSgQRmCS@10.1.20.41:1521/STOCK')\n",
    "    print (con.version)\n",
    "    sql_CASE30_COMP_SYMBOLS = \"\"\"SELECT CASE30_COMPANIES.SYMBOL_CODE , SYMBOLINFO.REUTERS\n",
    "                    from CASE30_COMPANIES LEFT JOIN SYMBOLINFO\n",
    "                    ON CASE30_COMPANIES.SYMBOL_CODE = SYMBOLINFO.SYMBOL_CODE \"\"\"\n",
    "    cursor = con.cursor()    \n",
    "    df_CASE30_COMP_SYMBOLS = pd.read_sql(sql_CASE30_COMP_SYMBOLS, con)\n",
    "    df_CASE30_COMP_SYMBOLS.REUTERS = df_CASE30_COMP_SYMBOLS.REUTERS.apply(lambda x : x.split(\".\")[0])\n",
    "    df_CASE30_COMP_SYMBOLS.to_csv(\"EGX30_SYMBOLS(EGX30).csv\")\n",
    "    #df_EGX30_CAP_SYMBOLS.REUTERS.to_csv(\"EGX30_CAP_SYMBOLS(EGX30_CAP).csv\")\n",
    "    print(f\"  EGX30_SYMBOLS\\n====================\\n{df_CASE30_COMP_SYMBOLS} \")\n",
    "fetch_data()"
   ]
  },
  {
   "cell_type": "code",
   "execution_count": 9,
   "id": "bdabc5cf",
   "metadata": {},
   "outputs": [
    {
     "name": "stdout",
     "output_type": "stream",
     "text": [
      "11.2.0.4.0\n"
     ]
    },
    {
     "ename": "AttributeError",
     "evalue": "'NoneType' object has no attribute 'split'",
     "output_type": "error",
     "traceback": [
      "\u001b[1;31m---------------------------------------------------------------------------\u001b[0m",
      "\u001b[1;31mAttributeError\u001b[0m                            Traceback (most recent call last)",
      "\u001b[1;32m<ipython-input-9-27d08b572320>\u001b[0m in \u001b[0;36m<module>\u001b[1;34m\u001b[0m\n\u001b[0;32m     14\u001b[0m     \u001b[1;31m#df_EGX50_SYMBOLS[df_EGX50_SYMBOLS[\"SYMBOL_CODE\"]].to_csv(\"SYMBOL_CODE(EGX30).csv\")\u001b[0m\u001b[1;33m\u001b[0m\u001b[1;33m\u001b[0m\u001b[1;33m\u001b[0m\u001b[0m\n\u001b[0;32m     15\u001b[0m     \u001b[0mprint\u001b[0m\u001b[1;33m(\u001b[0m\u001b[1;34mf\"  EGX50_SYMBOLS\\n====================\\n{df_EGX50_SYMBOLS} \"\u001b[0m\u001b[1;33m)\u001b[0m\u001b[1;33m\u001b[0m\u001b[1;33m\u001b[0m\u001b[0m\n\u001b[1;32m---> 16\u001b[1;33m \u001b[0mfetch_data\u001b[0m\u001b[1;33m(\u001b[0m\u001b[1;33m)\u001b[0m\u001b[1;33m\u001b[0m\u001b[1;33m\u001b[0m\u001b[0m\n\u001b[0m",
      "\u001b[1;32m<ipython-input-9-27d08b572320>\u001b[0m in \u001b[0;36mfetch_data\u001b[1;34m()\u001b[0m\n\u001b[0;32m      9\u001b[0m     \u001b[0mcursor\u001b[0m \u001b[1;33m=\u001b[0m \u001b[0mcon\u001b[0m\u001b[1;33m.\u001b[0m\u001b[0mcursor\u001b[0m\u001b[1;33m(\u001b[0m\u001b[1;33m)\u001b[0m\u001b[1;33m\u001b[0m\u001b[1;33m\u001b[0m\u001b[0m\n\u001b[0;32m     10\u001b[0m     \u001b[0mdf_EGX50_SYMBOLS\u001b[0m \u001b[1;33m=\u001b[0m \u001b[0mpd\u001b[0m\u001b[1;33m.\u001b[0m\u001b[0mread_sql\u001b[0m\u001b[1;33m(\u001b[0m\u001b[0msql_EGX50_SYMBOLS\u001b[0m\u001b[1;33m,\u001b[0m \u001b[0mcon\u001b[0m\u001b[1;33m)\u001b[0m\u001b[1;33m\u001b[0m\u001b[1;33m\u001b[0m\u001b[0m\n\u001b[1;32m---> 11\u001b[1;33m     \u001b[0mdf_EGX50_SYMBOLS\u001b[0m\u001b[1;33m.\u001b[0m\u001b[0mREUTERS\u001b[0m \u001b[1;33m=\u001b[0m \u001b[0mdf_EGX50_SYMBOLS\u001b[0m\u001b[1;33m.\u001b[0m\u001b[0mREUTERS\u001b[0m\u001b[1;33m.\u001b[0m\u001b[0mapply\u001b[0m\u001b[1;33m(\u001b[0m\u001b[1;32mlambda\u001b[0m \u001b[0mx\u001b[0m \u001b[1;33m:\u001b[0m \u001b[0mx\u001b[0m\u001b[1;33m.\u001b[0m\u001b[0msplit\u001b[0m\u001b[1;33m(\u001b[0m\u001b[1;34m\".\"\u001b[0m\u001b[1;33m)\u001b[0m\u001b[1;33m[\u001b[0m\u001b[1;36m0\u001b[0m\u001b[1;33m]\u001b[0m\u001b[1;33m)\u001b[0m\u001b[1;33m\u001b[0m\u001b[1;33m\u001b[0m\u001b[0m\n\u001b[0m\u001b[0;32m     12\u001b[0m     \u001b[0mdf_EGX50_SYMBOLS\u001b[0m\u001b[1;33m.\u001b[0m\u001b[0mto_csv\u001b[0m\u001b[1;33m(\u001b[0m\u001b[1;34m\"EGX50_SYMBOLS(EGX50).csv\"\u001b[0m\u001b[1;33m)\u001b[0m\u001b[1;33m\u001b[0m\u001b[1;33m\u001b[0m\u001b[0m\n\u001b[0;32m     13\u001b[0m     \u001b[1;31m#df_EGX50_SYMBOLS.REUTERS.to_csv(\"EGX50_SYMBOLS(EGX50).csv\")\u001b[0m\u001b[1;33m\u001b[0m\u001b[1;33m\u001b[0m\u001b[1;33m\u001b[0m\u001b[0m\n",
      "\u001b[1;32m~\\Anaconda3\\lib\\site-packages\\pandas\\core\\series.py\u001b[0m in \u001b[0;36mapply\u001b[1;34m(self, func, convert_dtype, args, **kwds)\u001b[0m\n\u001b[0;32m   4136\u001b[0m             \u001b[1;32melse\u001b[0m\u001b[1;33m:\u001b[0m\u001b[1;33m\u001b[0m\u001b[1;33m\u001b[0m\u001b[0m\n\u001b[0;32m   4137\u001b[0m                 \u001b[0mvalues\u001b[0m \u001b[1;33m=\u001b[0m \u001b[0mself\u001b[0m\u001b[1;33m.\u001b[0m\u001b[0mastype\u001b[0m\u001b[1;33m(\u001b[0m\u001b[0mobject\u001b[0m\u001b[1;33m)\u001b[0m\u001b[1;33m.\u001b[0m\u001b[0m_values\u001b[0m\u001b[1;33m\u001b[0m\u001b[1;33m\u001b[0m\u001b[0m\n\u001b[1;32m-> 4138\u001b[1;33m                 \u001b[0mmapped\u001b[0m \u001b[1;33m=\u001b[0m \u001b[0mlib\u001b[0m\u001b[1;33m.\u001b[0m\u001b[0mmap_infer\u001b[0m\u001b[1;33m(\u001b[0m\u001b[0mvalues\u001b[0m\u001b[1;33m,\u001b[0m \u001b[0mf\u001b[0m\u001b[1;33m,\u001b[0m \u001b[0mconvert\u001b[0m\u001b[1;33m=\u001b[0m\u001b[0mconvert_dtype\u001b[0m\u001b[1;33m)\u001b[0m\u001b[1;33m\u001b[0m\u001b[1;33m\u001b[0m\u001b[0m\n\u001b[0m\u001b[0;32m   4139\u001b[0m \u001b[1;33m\u001b[0m\u001b[0m\n\u001b[0;32m   4140\u001b[0m         \u001b[1;32mif\u001b[0m \u001b[0mlen\u001b[0m\u001b[1;33m(\u001b[0m\u001b[0mmapped\u001b[0m\u001b[1;33m)\u001b[0m \u001b[1;32mand\u001b[0m \u001b[0misinstance\u001b[0m\u001b[1;33m(\u001b[0m\u001b[0mmapped\u001b[0m\u001b[1;33m[\u001b[0m\u001b[1;36m0\u001b[0m\u001b[1;33m]\u001b[0m\u001b[1;33m,\u001b[0m \u001b[0mSeries\u001b[0m\u001b[1;33m)\u001b[0m\u001b[1;33m:\u001b[0m\u001b[1;33m\u001b[0m\u001b[1;33m\u001b[0m\u001b[0m\n",
      "\u001b[1;32mpandas\\_libs\\lib.pyx\u001b[0m in \u001b[0;36mpandas._libs.lib.map_infer\u001b[1;34m()\u001b[0m\n",
      "\u001b[1;32m<ipython-input-9-27d08b572320>\u001b[0m in \u001b[0;36m<lambda>\u001b[1;34m(x)\u001b[0m\n\u001b[0;32m      9\u001b[0m     \u001b[0mcursor\u001b[0m \u001b[1;33m=\u001b[0m \u001b[0mcon\u001b[0m\u001b[1;33m.\u001b[0m\u001b[0mcursor\u001b[0m\u001b[1;33m(\u001b[0m\u001b[1;33m)\u001b[0m\u001b[1;33m\u001b[0m\u001b[1;33m\u001b[0m\u001b[0m\n\u001b[0;32m     10\u001b[0m     \u001b[0mdf_EGX50_SYMBOLS\u001b[0m \u001b[1;33m=\u001b[0m \u001b[0mpd\u001b[0m\u001b[1;33m.\u001b[0m\u001b[0mread_sql\u001b[0m\u001b[1;33m(\u001b[0m\u001b[0msql_EGX50_SYMBOLS\u001b[0m\u001b[1;33m,\u001b[0m \u001b[0mcon\u001b[0m\u001b[1;33m)\u001b[0m\u001b[1;33m\u001b[0m\u001b[1;33m\u001b[0m\u001b[0m\n\u001b[1;32m---> 11\u001b[1;33m     \u001b[0mdf_EGX50_SYMBOLS\u001b[0m\u001b[1;33m.\u001b[0m\u001b[0mREUTERS\u001b[0m \u001b[1;33m=\u001b[0m \u001b[0mdf_EGX50_SYMBOLS\u001b[0m\u001b[1;33m.\u001b[0m\u001b[0mREUTERS\u001b[0m\u001b[1;33m.\u001b[0m\u001b[0mapply\u001b[0m\u001b[1;33m(\u001b[0m\u001b[1;32mlambda\u001b[0m \u001b[0mx\u001b[0m \u001b[1;33m:\u001b[0m \u001b[0mx\u001b[0m\u001b[1;33m.\u001b[0m\u001b[0msplit\u001b[0m\u001b[1;33m(\u001b[0m\u001b[1;34m\".\"\u001b[0m\u001b[1;33m)\u001b[0m\u001b[1;33m[\u001b[0m\u001b[1;36m0\u001b[0m\u001b[1;33m]\u001b[0m\u001b[1;33m)\u001b[0m\u001b[1;33m\u001b[0m\u001b[1;33m\u001b[0m\u001b[0m\n\u001b[0m\u001b[0;32m     12\u001b[0m     \u001b[0mdf_EGX50_SYMBOLS\u001b[0m\u001b[1;33m.\u001b[0m\u001b[0mto_csv\u001b[0m\u001b[1;33m(\u001b[0m\u001b[1;34m\"EGX50_SYMBOLS(EGX50).csv\"\u001b[0m\u001b[1;33m)\u001b[0m\u001b[1;33m\u001b[0m\u001b[1;33m\u001b[0m\u001b[0m\n\u001b[0;32m     13\u001b[0m     \u001b[1;31m#df_EGX50_SYMBOLS.REUTERS.to_csv(\"EGX50_SYMBOLS(EGX50).csv\")\u001b[0m\u001b[1;33m\u001b[0m\u001b[1;33m\u001b[0m\u001b[1;33m\u001b[0m\u001b[0m\n",
      "\u001b[1;31mAttributeError\u001b[0m: 'NoneType' object has no attribute 'split'"
     ]
    }
   ],
   "source": [
    "# read EGX50_SYMBOLS Tickers\n",
    "#--------------------------------\n",
    "def fetch_data():\n",
    "    con = cx_Oracle.connect('STOCK/P3rXdM5HbSgQRmCS@10.1.20.41:1521/STOCK')\n",
    "    print (con.version)\n",
    "    sql_EGX50_SYMBOLS = \"\"\"SELECT EGX50_SYMBOLS.SYMBOL_CODE , SYMBOLINFO.REUTERS\n",
    "                    from EGX50_SYMBOLS LEFT JOIN SYMBOLINFO\n",
    "                    ON EGX50_SYMBOLS.SYMBOL_CODE = SYMBOLINFO.SYMBOL_CODE \"\"\"\n",
    "    cursor = con.cursor()    \n",
    "    df_EGX50_SYMBOLS = pd.read_sql(sql_EGX50_SYMBOLS, con)\n",
    "    df_EGX50_SYMBOLS.REUTERS = df_EGX50_SYMBOLS.REUTERS.apply(lambda x : x.split(\".\")[0])\n",
    "    df_EGX50_SYMBOLS.to_csv(\"EGX50_SYMBOLS(EGX50).csv\")\n",
    "    #df_EGX50_SYMBOLS.REUTERS.to_csv(\"EGX50_SYMBOLS(EGX50).csv\")\n",
    "    #df_EGX50_SYMBOLS[df_EGX50_SYMBOLS[\"SYMBOL_CODE\"]].to_csv(\"SYMBOL_CODE(EGX30).csv\")\n",
    "    print(f\"  EGX50_SYMBOLS\\n====================\\n{df_EGX50_SYMBOLS} \")\n",
    "fetch_data()"
   ]
  },
  {
   "cell_type": "code",
   "execution_count": 10,
   "id": "72b2b4d4",
   "metadata": {},
   "outputs": [
    {
     "name": "stdout",
     "output_type": "stream",
     "text": [
      "11.2.0.4.0\n"
     ]
    },
    {
     "ename": "AttributeError",
     "evalue": "'NoneType' object has no attribute 'split'",
     "output_type": "error",
     "traceback": [
      "\u001b[1;31m---------------------------------------------------------------------------\u001b[0m",
      "\u001b[1;31mAttributeError\u001b[0m                            Traceback (most recent call last)",
      "\u001b[1;32m<ipython-input-10-58399c3377a3>\u001b[0m in \u001b[0;36m<module>\u001b[1;34m\u001b[0m\n\u001b[0;32m     14\u001b[0m     \u001b[1;31m#df_EGX50_SYMBOLS[df_EGX50_SYMBOLS[\"SYMBOL_CODE\"]].to_csv(\"SYMBOL_CODE(EGX30).csv\")\u001b[0m\u001b[1;33m\u001b[0m\u001b[1;33m\u001b[0m\u001b[1;33m\u001b[0m\u001b[0m\n\u001b[0;32m     15\u001b[0m     \u001b[0mprint\u001b[0m\u001b[1;33m(\u001b[0m\u001b[1;34mf\"  EGX70_SYMBOLS\\n====================\\n{df_EGX70_SYMBOLS} \"\u001b[0m\u001b[1;33m)\u001b[0m\u001b[1;33m\u001b[0m\u001b[1;33m\u001b[0m\u001b[0m\n\u001b[1;32m---> 16\u001b[1;33m \u001b[0mfetch_data\u001b[0m\u001b[1;33m(\u001b[0m\u001b[1;33m)\u001b[0m\u001b[1;33m\u001b[0m\u001b[1;33m\u001b[0m\u001b[0m\n\u001b[0m",
      "\u001b[1;32m<ipython-input-10-58399c3377a3>\u001b[0m in \u001b[0;36mfetch_data\u001b[1;34m()\u001b[0m\n\u001b[0;32m      9\u001b[0m     \u001b[0mcursor\u001b[0m \u001b[1;33m=\u001b[0m \u001b[0mcon\u001b[0m\u001b[1;33m.\u001b[0m\u001b[0mcursor\u001b[0m\u001b[1;33m(\u001b[0m\u001b[1;33m)\u001b[0m\u001b[1;33m\u001b[0m\u001b[1;33m\u001b[0m\u001b[0m\n\u001b[0;32m     10\u001b[0m     \u001b[0mdf_EGX70_SYMBOLS\u001b[0m \u001b[1;33m=\u001b[0m \u001b[0mpd\u001b[0m\u001b[1;33m.\u001b[0m\u001b[0mread_sql\u001b[0m\u001b[1;33m(\u001b[0m\u001b[0msql_EGX70_SYMBOLS\u001b[0m\u001b[1;33m,\u001b[0m \u001b[0mcon\u001b[0m\u001b[1;33m)\u001b[0m\u001b[1;33m\u001b[0m\u001b[1;33m\u001b[0m\u001b[0m\n\u001b[1;32m---> 11\u001b[1;33m     \u001b[0mdf_EGX70_SYMBOLS\u001b[0m\u001b[1;33m.\u001b[0m\u001b[0mREUTERS\u001b[0m \u001b[1;33m=\u001b[0m \u001b[0mdf_EGX70_SYMBOLS\u001b[0m\u001b[1;33m.\u001b[0m\u001b[0mREUTERS\u001b[0m\u001b[1;33m.\u001b[0m\u001b[0mapply\u001b[0m\u001b[1;33m(\u001b[0m\u001b[1;32mlambda\u001b[0m \u001b[0mx\u001b[0m \u001b[1;33m:\u001b[0m \u001b[0mx\u001b[0m\u001b[1;33m.\u001b[0m\u001b[0msplit\u001b[0m\u001b[1;33m(\u001b[0m\u001b[1;34m\".\"\u001b[0m\u001b[1;33m)\u001b[0m\u001b[1;33m[\u001b[0m\u001b[1;36m0\u001b[0m\u001b[1;33m]\u001b[0m\u001b[1;33m)\u001b[0m\u001b[1;33m\u001b[0m\u001b[1;33m\u001b[0m\u001b[0m\n\u001b[0m\u001b[0;32m     12\u001b[0m     \u001b[0mdf_EGX70_SYMBOLS\u001b[0m\u001b[1;33m.\u001b[0m\u001b[0mto_csv\u001b[0m\u001b[1;33m(\u001b[0m\u001b[1;34m\"EGX70_SYMBOLS(EGX70).csv\"\u001b[0m\u001b[1;33m)\u001b[0m\u001b[1;33m\u001b[0m\u001b[1;33m\u001b[0m\u001b[0m\n\u001b[0;32m     13\u001b[0m     \u001b[1;31m#df_EGX50_SYMBOLS.REUTERS.to_csv(\"EGX50_SYMBOLS(EGX50).csv\")\u001b[0m\u001b[1;33m\u001b[0m\u001b[1;33m\u001b[0m\u001b[1;33m\u001b[0m\u001b[0m\n",
      "\u001b[1;32m~\\Anaconda3\\lib\\site-packages\\pandas\\core\\series.py\u001b[0m in \u001b[0;36mapply\u001b[1;34m(self, func, convert_dtype, args, **kwds)\u001b[0m\n\u001b[0;32m   4136\u001b[0m             \u001b[1;32melse\u001b[0m\u001b[1;33m:\u001b[0m\u001b[1;33m\u001b[0m\u001b[1;33m\u001b[0m\u001b[0m\n\u001b[0;32m   4137\u001b[0m                 \u001b[0mvalues\u001b[0m \u001b[1;33m=\u001b[0m \u001b[0mself\u001b[0m\u001b[1;33m.\u001b[0m\u001b[0mastype\u001b[0m\u001b[1;33m(\u001b[0m\u001b[0mobject\u001b[0m\u001b[1;33m)\u001b[0m\u001b[1;33m.\u001b[0m\u001b[0m_values\u001b[0m\u001b[1;33m\u001b[0m\u001b[1;33m\u001b[0m\u001b[0m\n\u001b[1;32m-> 4138\u001b[1;33m                 \u001b[0mmapped\u001b[0m \u001b[1;33m=\u001b[0m \u001b[0mlib\u001b[0m\u001b[1;33m.\u001b[0m\u001b[0mmap_infer\u001b[0m\u001b[1;33m(\u001b[0m\u001b[0mvalues\u001b[0m\u001b[1;33m,\u001b[0m \u001b[0mf\u001b[0m\u001b[1;33m,\u001b[0m \u001b[0mconvert\u001b[0m\u001b[1;33m=\u001b[0m\u001b[0mconvert_dtype\u001b[0m\u001b[1;33m)\u001b[0m\u001b[1;33m\u001b[0m\u001b[1;33m\u001b[0m\u001b[0m\n\u001b[0m\u001b[0;32m   4139\u001b[0m \u001b[1;33m\u001b[0m\u001b[0m\n\u001b[0;32m   4140\u001b[0m         \u001b[1;32mif\u001b[0m \u001b[0mlen\u001b[0m\u001b[1;33m(\u001b[0m\u001b[0mmapped\u001b[0m\u001b[1;33m)\u001b[0m \u001b[1;32mand\u001b[0m \u001b[0misinstance\u001b[0m\u001b[1;33m(\u001b[0m\u001b[0mmapped\u001b[0m\u001b[1;33m[\u001b[0m\u001b[1;36m0\u001b[0m\u001b[1;33m]\u001b[0m\u001b[1;33m,\u001b[0m \u001b[0mSeries\u001b[0m\u001b[1;33m)\u001b[0m\u001b[1;33m:\u001b[0m\u001b[1;33m\u001b[0m\u001b[1;33m\u001b[0m\u001b[0m\n",
      "\u001b[1;32mpandas\\_libs\\lib.pyx\u001b[0m in \u001b[0;36mpandas._libs.lib.map_infer\u001b[1;34m()\u001b[0m\n",
      "\u001b[1;32m<ipython-input-10-58399c3377a3>\u001b[0m in \u001b[0;36m<lambda>\u001b[1;34m(x)\u001b[0m\n\u001b[0;32m      9\u001b[0m     \u001b[0mcursor\u001b[0m \u001b[1;33m=\u001b[0m \u001b[0mcon\u001b[0m\u001b[1;33m.\u001b[0m\u001b[0mcursor\u001b[0m\u001b[1;33m(\u001b[0m\u001b[1;33m)\u001b[0m\u001b[1;33m\u001b[0m\u001b[1;33m\u001b[0m\u001b[0m\n\u001b[0;32m     10\u001b[0m     \u001b[0mdf_EGX70_SYMBOLS\u001b[0m \u001b[1;33m=\u001b[0m \u001b[0mpd\u001b[0m\u001b[1;33m.\u001b[0m\u001b[0mread_sql\u001b[0m\u001b[1;33m(\u001b[0m\u001b[0msql_EGX70_SYMBOLS\u001b[0m\u001b[1;33m,\u001b[0m \u001b[0mcon\u001b[0m\u001b[1;33m)\u001b[0m\u001b[1;33m\u001b[0m\u001b[1;33m\u001b[0m\u001b[0m\n\u001b[1;32m---> 11\u001b[1;33m     \u001b[0mdf_EGX70_SYMBOLS\u001b[0m\u001b[1;33m.\u001b[0m\u001b[0mREUTERS\u001b[0m \u001b[1;33m=\u001b[0m \u001b[0mdf_EGX70_SYMBOLS\u001b[0m\u001b[1;33m.\u001b[0m\u001b[0mREUTERS\u001b[0m\u001b[1;33m.\u001b[0m\u001b[0mapply\u001b[0m\u001b[1;33m(\u001b[0m\u001b[1;32mlambda\u001b[0m \u001b[0mx\u001b[0m \u001b[1;33m:\u001b[0m \u001b[0mx\u001b[0m\u001b[1;33m.\u001b[0m\u001b[0msplit\u001b[0m\u001b[1;33m(\u001b[0m\u001b[1;34m\".\"\u001b[0m\u001b[1;33m)\u001b[0m\u001b[1;33m[\u001b[0m\u001b[1;36m0\u001b[0m\u001b[1;33m]\u001b[0m\u001b[1;33m)\u001b[0m\u001b[1;33m\u001b[0m\u001b[1;33m\u001b[0m\u001b[0m\n\u001b[0m\u001b[0;32m     12\u001b[0m     \u001b[0mdf_EGX70_SYMBOLS\u001b[0m\u001b[1;33m.\u001b[0m\u001b[0mto_csv\u001b[0m\u001b[1;33m(\u001b[0m\u001b[1;34m\"EGX70_SYMBOLS(EGX70).csv\"\u001b[0m\u001b[1;33m)\u001b[0m\u001b[1;33m\u001b[0m\u001b[1;33m\u001b[0m\u001b[0m\n\u001b[0;32m     13\u001b[0m     \u001b[1;31m#df_EGX50_SYMBOLS.REUTERS.to_csv(\"EGX50_SYMBOLS(EGX50).csv\")\u001b[0m\u001b[1;33m\u001b[0m\u001b[1;33m\u001b[0m\u001b[1;33m\u001b[0m\u001b[0m\n",
      "\u001b[1;31mAttributeError\u001b[0m: 'NoneType' object has no attribute 'split'"
     ]
    }
   ],
   "source": [
    "# read EGX50_SYMBOLS Tickers\n",
    "#--------------------------------\n",
    "def fetch_data():\n",
    "    con = cx_Oracle.connect('STOCK/P3rXdM5HbSgQRmCS@10.1.20.41:1521/STOCK')\n",
    "    print (con.version)\n",
    "    sql_EGX70_SYMBOLS = \"\"\"SELECT EGX70_SYMBOLS.SYMBOL_CODE , SYMBOLINFO.REUTERS\n",
    "                    from EGX70_SYMBOLS LEFT JOIN SYMBOLINFO\n",
    "                    ON EGX70_SYMBOLS.SYMBOL_CODE = SYMBOLINFO.SYMBOL_CODE \"\"\"\n",
    "    cursor = con.cursor()    \n",
    "    df_EGX70_SYMBOLS = pd.read_sql(sql_EGX70_SYMBOLS, con)\n",
    "    df_EGX70_SYMBOLS.REUTERS = df_EGX70_SYMBOLS.REUTERS.apply(lambda x : x.split(\".\")[0])\n",
    "    df_EGX70_SYMBOLS.to_csv(\"EGX70_SYMBOLS(EGX70).csv\")\n",
    "    #df_EGX50_SYMBOLS.REUTERS.to_csv(\"EGX50_SYMBOLS(EGX50).csv\")\n",
    "    #df_EGX50_SYMBOLS[df_EGX50_SYMBOLS[\"SYMBOL_CODE\"]].to_csv(\"SYMBOL_CODE(EGX30).csv\")\n",
    "    print(f\"  EGX70_SYMBOLS\\n====================\\n{df_EGX70_SYMBOLS} \")\n",
    "fetch_data()"
   ]
  },
  {
   "cell_type": "code",
   "execution_count": 11,
   "id": "6496bc6d",
   "metadata": {},
   "outputs": [
    {
     "name": "stdout",
     "output_type": "stream",
     "text": [
      "11.2.0.4.0\n"
     ]
    },
    {
     "ename": "AttributeError",
     "evalue": "'NoneType' object has no attribute 'split'",
     "output_type": "error",
     "traceback": [
      "\u001b[1;31m---------------------------------------------------------------------------\u001b[0m",
      "\u001b[1;31mAttributeError\u001b[0m                            Traceback (most recent call last)",
      "\u001b[1;32m<ipython-input-11-a1f99240e480>\u001b[0m in \u001b[0;36m<module>\u001b[1;34m\u001b[0m\n\u001b[0;32m     14\u001b[0m     \u001b[1;31m#df_EGX50_SYMBOLS[df_EGX50_SYMBOLS[\"SYMBOL_CODE\"]].to_csv(\"SYMBOL_CODE(EGX30).csv\")\u001b[0m\u001b[1;33m\u001b[0m\u001b[1;33m\u001b[0m\u001b[1;33m\u001b[0m\u001b[0m\n\u001b[0;32m     15\u001b[0m     \u001b[0mprint\u001b[0m\u001b[1;33m(\u001b[0m\u001b[1;34mf\"  EGX100_SYMBOLS\\n====================\\n{df_EGX100_SYMBOLS} \"\u001b[0m\u001b[1;33m)\u001b[0m\u001b[1;33m\u001b[0m\u001b[1;33m\u001b[0m\u001b[0m\n\u001b[1;32m---> 16\u001b[1;33m \u001b[0mfetch_data\u001b[0m\u001b[1;33m(\u001b[0m\u001b[1;33m)\u001b[0m\u001b[1;33m\u001b[0m\u001b[1;33m\u001b[0m\u001b[0m\n\u001b[0m",
      "\u001b[1;32m<ipython-input-11-a1f99240e480>\u001b[0m in \u001b[0;36mfetch_data\u001b[1;34m()\u001b[0m\n\u001b[0;32m      9\u001b[0m     \u001b[0mcursor\u001b[0m \u001b[1;33m=\u001b[0m \u001b[0mcon\u001b[0m\u001b[1;33m.\u001b[0m\u001b[0mcursor\u001b[0m\u001b[1;33m(\u001b[0m\u001b[1;33m)\u001b[0m\u001b[1;33m\u001b[0m\u001b[1;33m\u001b[0m\u001b[0m\n\u001b[0;32m     10\u001b[0m     \u001b[0mdf_EGX100_SYMBOLS\u001b[0m \u001b[1;33m=\u001b[0m \u001b[0mpd\u001b[0m\u001b[1;33m.\u001b[0m\u001b[0mread_sql\u001b[0m\u001b[1;33m(\u001b[0m\u001b[0msql_EGX100_SYMBOLS\u001b[0m\u001b[1;33m,\u001b[0m \u001b[0mcon\u001b[0m\u001b[1;33m)\u001b[0m\u001b[1;33m\u001b[0m\u001b[1;33m\u001b[0m\u001b[0m\n\u001b[1;32m---> 11\u001b[1;33m     \u001b[0mdf_EGX100_SYMBOLS\u001b[0m\u001b[1;33m.\u001b[0m\u001b[0mREUTERS\u001b[0m \u001b[1;33m=\u001b[0m \u001b[0mdf_EGX100_SYMBOLS\u001b[0m\u001b[1;33m.\u001b[0m\u001b[0mREUTERS\u001b[0m\u001b[1;33m.\u001b[0m\u001b[0mapply\u001b[0m\u001b[1;33m(\u001b[0m\u001b[1;32mlambda\u001b[0m \u001b[0mx\u001b[0m \u001b[1;33m:\u001b[0m \u001b[0mx\u001b[0m\u001b[1;33m.\u001b[0m\u001b[0msplit\u001b[0m\u001b[1;33m(\u001b[0m\u001b[1;34m\".\"\u001b[0m\u001b[1;33m)\u001b[0m\u001b[1;33m[\u001b[0m\u001b[1;36m0\u001b[0m\u001b[1;33m]\u001b[0m\u001b[1;33m)\u001b[0m\u001b[1;33m\u001b[0m\u001b[1;33m\u001b[0m\u001b[0m\n\u001b[0m\u001b[0;32m     12\u001b[0m     \u001b[0mdf_EGX100_SYMBOLS\u001b[0m\u001b[1;33m.\u001b[0m\u001b[0mto_csv\u001b[0m\u001b[1;33m(\u001b[0m\u001b[1;34m\"EGX100_SYMBOLS(EGX100).csv\"\u001b[0m\u001b[1;33m)\u001b[0m\u001b[1;33m\u001b[0m\u001b[1;33m\u001b[0m\u001b[0m\n\u001b[0;32m     13\u001b[0m     \u001b[1;31m#df_EGX50_SYMBOLS.REUTERS.to_csv(\"EGX50_SYMBOLS(EGX50).csv\")\u001b[0m\u001b[1;33m\u001b[0m\u001b[1;33m\u001b[0m\u001b[1;33m\u001b[0m\u001b[0m\n",
      "\u001b[1;32m~\\Anaconda3\\lib\\site-packages\\pandas\\core\\series.py\u001b[0m in \u001b[0;36mapply\u001b[1;34m(self, func, convert_dtype, args, **kwds)\u001b[0m\n\u001b[0;32m   4136\u001b[0m             \u001b[1;32melse\u001b[0m\u001b[1;33m:\u001b[0m\u001b[1;33m\u001b[0m\u001b[1;33m\u001b[0m\u001b[0m\n\u001b[0;32m   4137\u001b[0m                 \u001b[0mvalues\u001b[0m \u001b[1;33m=\u001b[0m \u001b[0mself\u001b[0m\u001b[1;33m.\u001b[0m\u001b[0mastype\u001b[0m\u001b[1;33m(\u001b[0m\u001b[0mobject\u001b[0m\u001b[1;33m)\u001b[0m\u001b[1;33m.\u001b[0m\u001b[0m_values\u001b[0m\u001b[1;33m\u001b[0m\u001b[1;33m\u001b[0m\u001b[0m\n\u001b[1;32m-> 4138\u001b[1;33m                 \u001b[0mmapped\u001b[0m \u001b[1;33m=\u001b[0m \u001b[0mlib\u001b[0m\u001b[1;33m.\u001b[0m\u001b[0mmap_infer\u001b[0m\u001b[1;33m(\u001b[0m\u001b[0mvalues\u001b[0m\u001b[1;33m,\u001b[0m \u001b[0mf\u001b[0m\u001b[1;33m,\u001b[0m \u001b[0mconvert\u001b[0m\u001b[1;33m=\u001b[0m\u001b[0mconvert_dtype\u001b[0m\u001b[1;33m)\u001b[0m\u001b[1;33m\u001b[0m\u001b[1;33m\u001b[0m\u001b[0m\n\u001b[0m\u001b[0;32m   4139\u001b[0m \u001b[1;33m\u001b[0m\u001b[0m\n\u001b[0;32m   4140\u001b[0m         \u001b[1;32mif\u001b[0m \u001b[0mlen\u001b[0m\u001b[1;33m(\u001b[0m\u001b[0mmapped\u001b[0m\u001b[1;33m)\u001b[0m \u001b[1;32mand\u001b[0m \u001b[0misinstance\u001b[0m\u001b[1;33m(\u001b[0m\u001b[0mmapped\u001b[0m\u001b[1;33m[\u001b[0m\u001b[1;36m0\u001b[0m\u001b[1;33m]\u001b[0m\u001b[1;33m,\u001b[0m \u001b[0mSeries\u001b[0m\u001b[1;33m)\u001b[0m\u001b[1;33m:\u001b[0m\u001b[1;33m\u001b[0m\u001b[1;33m\u001b[0m\u001b[0m\n",
      "\u001b[1;32mpandas\\_libs\\lib.pyx\u001b[0m in \u001b[0;36mpandas._libs.lib.map_infer\u001b[1;34m()\u001b[0m\n",
      "\u001b[1;32m<ipython-input-11-a1f99240e480>\u001b[0m in \u001b[0;36m<lambda>\u001b[1;34m(x)\u001b[0m\n\u001b[0;32m      9\u001b[0m     \u001b[0mcursor\u001b[0m \u001b[1;33m=\u001b[0m \u001b[0mcon\u001b[0m\u001b[1;33m.\u001b[0m\u001b[0mcursor\u001b[0m\u001b[1;33m(\u001b[0m\u001b[1;33m)\u001b[0m\u001b[1;33m\u001b[0m\u001b[1;33m\u001b[0m\u001b[0m\n\u001b[0;32m     10\u001b[0m     \u001b[0mdf_EGX100_SYMBOLS\u001b[0m \u001b[1;33m=\u001b[0m \u001b[0mpd\u001b[0m\u001b[1;33m.\u001b[0m\u001b[0mread_sql\u001b[0m\u001b[1;33m(\u001b[0m\u001b[0msql_EGX100_SYMBOLS\u001b[0m\u001b[1;33m,\u001b[0m \u001b[0mcon\u001b[0m\u001b[1;33m)\u001b[0m\u001b[1;33m\u001b[0m\u001b[1;33m\u001b[0m\u001b[0m\n\u001b[1;32m---> 11\u001b[1;33m     \u001b[0mdf_EGX100_SYMBOLS\u001b[0m\u001b[1;33m.\u001b[0m\u001b[0mREUTERS\u001b[0m \u001b[1;33m=\u001b[0m \u001b[0mdf_EGX100_SYMBOLS\u001b[0m\u001b[1;33m.\u001b[0m\u001b[0mREUTERS\u001b[0m\u001b[1;33m.\u001b[0m\u001b[0mapply\u001b[0m\u001b[1;33m(\u001b[0m\u001b[1;32mlambda\u001b[0m \u001b[0mx\u001b[0m \u001b[1;33m:\u001b[0m \u001b[0mx\u001b[0m\u001b[1;33m.\u001b[0m\u001b[0msplit\u001b[0m\u001b[1;33m(\u001b[0m\u001b[1;34m\".\"\u001b[0m\u001b[1;33m)\u001b[0m\u001b[1;33m[\u001b[0m\u001b[1;36m0\u001b[0m\u001b[1;33m]\u001b[0m\u001b[1;33m)\u001b[0m\u001b[1;33m\u001b[0m\u001b[1;33m\u001b[0m\u001b[0m\n\u001b[0m\u001b[0;32m     12\u001b[0m     \u001b[0mdf_EGX100_SYMBOLS\u001b[0m\u001b[1;33m.\u001b[0m\u001b[0mto_csv\u001b[0m\u001b[1;33m(\u001b[0m\u001b[1;34m\"EGX100_SYMBOLS(EGX100).csv\"\u001b[0m\u001b[1;33m)\u001b[0m\u001b[1;33m\u001b[0m\u001b[1;33m\u001b[0m\u001b[0m\n\u001b[0;32m     13\u001b[0m     \u001b[1;31m#df_EGX50_SYMBOLS.REUTERS.to_csv(\"EGX50_SYMBOLS(EGX50).csv\")\u001b[0m\u001b[1;33m\u001b[0m\u001b[1;33m\u001b[0m\u001b[1;33m\u001b[0m\u001b[0m\n",
      "\u001b[1;31mAttributeError\u001b[0m: 'NoneType' object has no attribute 'split'"
     ]
    }
   ],
   "source": [
    "# read EGX50_SYMBOLS Tickers\n",
    "#--------------------------------\n",
    "def fetch_data():\n",
    "    con = cx_Oracle.connect('STOCK/P3rXdM5HbSgQRmCS@10.1.20.41:1521/STOCK')\n",
    "    print (con.version)\n",
    "    sql_EGX100_SYMBOLS = \"\"\"SELECT EGX100_SYMBOLS.SYMBOL_CODE , SYMBOLINFO.REUTERS\n",
    "                    from EGX100_SYMBOLS LEFT JOIN SYMBOLINFO\n",
    "                    ON EGX100_SYMBOLS.SYMBOL_CODE = SYMBOLINFO.SYMBOL_CODE \"\"\"\n",
    "    cursor = con.cursor()    \n",
    "    df_EGX100_SYMBOLS = pd.read_sql(sql_EGX100_SYMBOLS, con)\n",
    "    df_EGX100_SYMBOLS.REUTERS = df_EGX100_SYMBOLS.REUTERS.apply(lambda x : x.split(\".\")[0])\n",
    "    df_EGX100_SYMBOLS.to_csv(\"EGX100_SYMBOLS(EGX100).csv\")\n",
    "    #df_EGX50_SYMBOLS.REUTERS.to_csv(\"EGX50_SYMBOLS(EGX50).csv\")\n",
    "    #df_EGX50_SYMBOLS[df_EGX50_SYMBOLS[\"SYMBOL_CODE\"]].to_csv(\"SYMBOL_CODE(EGX30).csv\")\n",
    "    print(f\"  EGX100_SYMBOLS\\n====================\\n{df_EGX100_SYMBOLS} \")\n",
    "fetch_data()"
   ]
  },
  {
   "cell_type": "code",
   "execution_count": null,
   "id": "241612a6",
   "metadata": {},
   "outputs": [],
   "source": []
  },
  {
   "cell_type": "code",
   "execution_count": null,
   "id": "f48468b2",
   "metadata": {},
   "outputs": [],
   "source": []
  }
 ],
 "metadata": {
  "kernelspec": {
   "display_name": "Python 3",
   "language": "python",
   "name": "python3"
  },
  "language_info": {
   "codemirror_mode": {
    "name": "ipython",
    "version": 3
   },
   "file_extension": ".py",
   "mimetype": "text/x-python",
   "name": "python",
   "nbconvert_exporter": "python",
   "pygments_lexer": "ipython3",
   "version": "3.8.8"
  }
 },
 "nbformat": 4,
 "nbformat_minor": 5
}
