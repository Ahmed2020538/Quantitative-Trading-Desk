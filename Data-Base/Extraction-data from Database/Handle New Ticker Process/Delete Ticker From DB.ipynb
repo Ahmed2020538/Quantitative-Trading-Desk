{
 "cells": [
  {
   "cell_type": "code",
   "execution_count": null,
   "id": "3e6a2cd3",
   "metadata": {},
   "outputs": [],
   "source": [
    "# Load reqiured package :\n",
    "import pandas as pd\n",
    "import cx_Oracle\n",
    "import datetime\n",
    "import csv\n",
    "import time\n",
    "import sys"
   ]
  },
  {
   "cell_type": "code",
   "execution_count": null,
   "id": "5d681337",
   "metadata": {},
   "outputs": [],
   "source": [
    "# Access on Orcale DataBase :\n",
    "def dbConnect():\n",
    "    '''\n",
    "    creates a standalone connection with the database\n",
    "    parameters:\n",
    "        none\n",
    "        \n",
    "    return: \n",
    "       con: cx_oracle connection\n",
    "    '''\n",
    "    \n",
    "    con = cx_Oracle.connect('STOCK/P3rXdM5HbSgQRmCS@10.1.20.41:1521/STOCK')\n",
    "    print (con.version)\n",
    "    return con"
   ]
  },
  {
   "cell_type": "code",
   "execution_count": null,
   "id": "cc366419",
   "metadata": {},
   "outputs": [],
   "source": [
    "# Delet Data From FILL_OHLCV Table\n",
    "con=dbConnect()\n",
    "\n",
    "cur = con.cursor()\n",
    "statement = 'delete from FILL_OHLCV where TICKER = :TICKER'\n",
    "cur.execute(statement, {'TICKER':'PORT'})\n",
    "con.commit()\n",
    "print(\"The Ticker Deleted From FILL_OHLCV Table done\")"
   ]
  },
  {
   "cell_type": "code",
   "execution_count": null,
   "id": "23b31142",
   "metadata": {},
   "outputs": [],
   "source": [
    "# Update Data From FILL_OHLCV Table\n",
    "con=dbConnect()\n",
    "\n",
    "cur = con.cursor()\n",
    "statement = 'update FILL_OHLCV set  TICKER = :1 where TICKER = :2 ORDER BY BARTIMESTAMP decs'\n",
    "cur.execute(statement, ('PORT','ARAB'))\n",
    "con.commit()\n",
    "print(\"The Ticker Deleted From FILL_OHLCV Table done\")"
   ]
  },
  {
   "cell_type": "code",
   "execution_count": null,
   "id": "9ff5e418",
   "metadata": {},
   "outputs": [],
   "source": []
  }
 ],
 "metadata": {
  "kernelspec": {
   "display_name": "Python 3",
   "language": "python",
   "name": "python3"
  },
  "language_info": {
   "codemirror_mode": {
    "name": "ipython",
    "version": 3
   },
   "file_extension": ".py",
   "mimetype": "text/x-python",
   "name": "python",
   "nbconvert_exporter": "python",
   "pygments_lexer": "ipython3",
   "version": "3.8.8"
  }
 },
 "nbformat": 4,
 "nbformat_minor": 5
}
