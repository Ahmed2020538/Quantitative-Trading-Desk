{
 "cells": [
  {
   "cell_type": "code",
   "execution_count": null,
   "id": "0f604fdc",
   "metadata": {},
   "outputs": [],
   "source": [
    "import pandas as pd\n",
    "import cx_Oracle\n",
    "import datetime\n",
    "import csv\n",
    "import time\n",
    "import sys"
   ]
  },
  {
   "cell_type": "code",
   "execution_count": null,
   "id": "2d7cbf70",
   "metadata": {},
   "outputs": [],
   "source": [
    "def dbConnect():\n",
    "    '''\n",
    "    creates a standalone connection with the database\n",
    "    parameters:\n",
    "        none\n",
    "        \n",
    "    return: \n",
    "       con: cx_oracle connection\n",
    "    '''\n",
    "    \n",
    "    con = cx_Oracle.connect('STOCK/P3rXdM5HbSgQRmCS@10.1.20.41:1521/STOCK')\n",
    "    print (con.version)\n",
    "    return con"
   ]
  },
  {
   "cell_type": "code",
   "execution_count": null,
   "id": "352c665a",
   "metadata": {},
   "outputs": [],
   "source": [
    "con=dbConnect()\n",
    "\n",
    "cur = con.cursor()\n",
    "statement = 'select * from FILL_OHLCV where TICKER = :1'\n",
    "cur.execute(statement, {'TICKER':'PORT'})\n",
    "PORT_DataSets_data = pd.read_sql(sql, con)\n",
    "PORT_DataSets_data.to_csv(\"PORT_DataSets.csv\")"
   ]
  },
  {
   "cell_type": "code",
   "execution_count": null,
   "id": "9a6e751f",
   "metadata": {},
   "outputs": [],
   "source": [
    "PORT_DataSets = pd.read_csv(\"PORT_DataSets.csv\")\n",
    "PORT_DataSets"
   ]
  },
  {
   "cell_type": "code",
   "execution_count": null,
   "id": "11c430ee",
   "metadata": {},
   "outputs": [],
   "source": [
    "PORT_DataSets = PORT_DataSets[PORT_DataSets['TICKER'] == 'PORT']\n",
    "PORT_DataSets"
   ]
  },
  {
   "cell_type": "code",
   "execution_count": null,
   "id": "9a0ac0a9",
   "metadata": {},
   "outputs": [],
   "source": [
    "con=dbConnect()\n",
    "\n",
    "sql='SELECT * FROM FILL_OHLCV where BARTIMESTAMP >= \"1998-05-06 11:30:00\"' \n",
    "cursor = con.cursor()   \n",
    "cursor.execute(sql)\n",
    "#con.commit()\n",
    "df1_sectors = pd.read_sql(sql, con)\n",
    "df1_sectors"
   ]
  },
  {
   "cell_type": "code",
   "execution_count": null,
   "id": "c9f67f29",
   "metadata": {},
   "outputs": [],
   "source": [
    "PORT_Data = df_sectors[df_sectors['TICKER'] == 'PORT']\n",
    "dsort =PORT_Data.sort_values(by=['BARTIMESTAMP'])\n",
    "dsort"
   ]
  },
  {
   "cell_type": "code",
   "execution_count": null,
   "id": "c592e1fe",
   "metadata": {},
   "outputs": [],
   "source": [
    "count = df_sectors[df_sectors['TICKER'] == 'PORT']['BARTIMESTAMP'].count()\n",
    "for i in range(count) :\n",
    "    print(df_sectors['BARTIMESTAMP'][i])"
   ]
  },
  {
   "cell_type": "code",
   "execution_count": null,
   "id": "4611ecaf",
   "metadata": {},
   "outputs": [],
   "source": []
  }
 ],
 "metadata": {
  "kernelspec": {
   "display_name": "Python 3",
   "language": "python",
   "name": "python3"
  },
  "language_info": {
   "codemirror_mode": {
    "name": "ipython",
    "version": 3
   },
   "file_extension": ".py",
   "mimetype": "text/x-python",
   "name": "python",
   "nbconvert_exporter": "python",
   "pygments_lexer": "ipython3",
   "version": "3.8.8"
  }
 },
 "nbformat": 4,
 "nbformat_minor": 5
}
