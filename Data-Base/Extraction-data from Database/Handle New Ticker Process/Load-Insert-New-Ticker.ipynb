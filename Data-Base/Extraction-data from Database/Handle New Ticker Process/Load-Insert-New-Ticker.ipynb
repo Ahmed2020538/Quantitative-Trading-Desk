{
 "cells": [
  {
   "cell_type": "code",
   "execution_count": null,
   "id": "4437e3d1",
   "metadata": {},
   "outputs": [],
   "source": [
    "# Load reqiured package :\n",
    "import pandas as pd\n",
    "import cx_Oracle\n",
    "import datetime\n",
    "import csv\n",
    "import time\n",
    "import sys"
   ]
  },
  {
   "cell_type": "code",
   "execution_count": null,
   "id": "96a29fd4",
   "metadata": {},
   "outputs": [],
   "source": [
    "# Access on Orcale DataBase :\n",
    "def dbConnect():\n",
    "    '''\n",
    "    creates a standalone connection with the database\n",
    "    parameters:\n",
    "        none\n",
    "        \n",
    "    return: \n",
    "       con: cx_oracle connection\n",
    "    '''\n",
    "    \n",
    "    con = cx_Oracle.connect('STOCK/P3rXdM5HbSgQRmCS@10.1.20.41:1521/STOCK')\n",
    "    print (con.version)\n",
    "    return con"
   ]
  },
  {
   "cell_type": "code",
   "execution_count": null,
   "id": "02f48ce6",
   "metadata": {},
   "outputs": [],
   "source": [
    "# Read all data of FILL_OHLCV Table\n",
    "con = cx_Oracle.connect('STOCK/P3rXdM5HbSgQRmCS@10.1.20.41:1521/STOCK')\n",
    "sql='SELECT * FROM FILL_OHLCV' \n",
    "cursor = con.cursor()   \n",
    "cursor.execute(sql)\n",
    "#con.commit()\n",
    "FILL_OHLCV_data = pd.read_sql(sql, con)\n",
    "FILL_OHLCV_data "
   ]
  },
  {
   "cell_type": "code",
   "execution_count": null,
   "id": "c4011b5f",
   "metadata": {},
   "outputs": [],
   "source": [
    "FILL_OHLCV_dataFile = pd.read_csv(\"FILL_OHLCV_data.csv\")\n",
    "FILL_OHLCV_dataFile"
   ]
  },
  {
   "cell_type": "code",
   "execution_count": null,
   "id": "25d8ee37",
   "metadata": {},
   "outputs": [],
   "source": [
    "FILL_OHLCV_dataFile[FILL_OHLCV_dataFile[\"TICKER\"] ==\"PORT\"].to_csv(\"PORT.csv\")\n",
    "tbIns = pd.read_csv(\"PORT.csv\")\n",
    "tbIns"
   ]
  },
  {
   "cell_type": "code",
   "execution_count": null,
   "id": "e3315c07",
   "metadata": {},
   "outputs": [],
   "source": [
    "# read-Csv as DataFrame\n",
    "tbIns = pd.read_csv(\"PORT.csv\")\n",
    "# casting DataTime Tybe\n",
    "#tbIns[\"TICKER\"] = tbIns[\"TICKER\"].apply(lambda x \"ARAB\" if x == \"PORT\" else \"ARAB\")\n",
    "tbIns['BARTIMESTAMP'] = pd.to_datetime(tbIns['BARTIMESTAMP'],  errors='coerce')\n",
    "# Set DateTime as Index of DataFrame\n",
    "tbIns.set_index(\"BARTIMESTAMP\" , inplace=True)\n",
    "tbIns.sort_index(ascending = True, inplace=True)\n",
    "print(\"Sorting Data VAlues done\")\n",
    "tbIns\n",
    "\n",
    "#tbIns.drop( index=[61617 : ] )"
   ]
  },
  {
   "cell_type": "code",
   "execution_count": null,
   "id": "bb7e9a69",
   "metadata": {},
   "outputs": [],
   "source": [
    "con=dbConnect()\n",
    "cur = con.cursor()\n",
    "lines=[]\n",
    "for index,row in tbIns.iterrows():\n",
    "    try:\n",
    "        line=[0,1,2,3,4,5,6,7,8]\n",
    "        #line[0]=row[\"TICKER\"]\n",
    "        line[0]=\"PORT\"\n",
    "        line[1]=row['OPEN']\n",
    "        line[2]=row['HIGH']\n",
    "        line[3]=row['LOW']\n",
    "        line[4]=row['CLOSE']\n",
    "        line[5]=row['VOLUME']\n",
    "        line[6]=index.to_pydatetime()\n",
    "        line[7]=1\n",
    "        line[8]=row['VWAP']\n",
    "        #print(index.to_pydatetime())\n",
    "        lines.append(line)\n",
    "\n",
    "        #print(lines)\n",
    "        print(line)\n",
    "        cur.execute(\"insert into FILL_OHLCV(TICKER,OPEN,HIGH,LOW,CLOSE,VOLUME,BARTIMESTAMP,ASSET,VWAP) values (:TICKER, :OPEN,:HIGH,:LOW,:CLOSE,:VOLUME,:BARTIMESTAMP,:1,:2)\",line)\n",
    "        con.commit()\n",
    "    except Exception as e:\n",
    "        \n",
    "        print(str(e))\n",
    "        print(line)"
   ]
  },
  {
   "cell_type": "code",
   "execution_count": null,
   "id": "d27a474e",
   "metadata": {},
   "outputs": [],
   "source": []
  },
  {
   "cell_type": "code",
   "execution_count": null,
   "id": "75789c2f",
   "metadata": {},
   "outputs": [],
   "source": []
  },
  {
   "cell_type": "code",
   "execution_count": null,
   "id": "174a5db0",
   "metadata": {},
   "outputs": [],
   "source": []
  }
 ],
 "metadata": {
  "kernelspec": {
   "display_name": "Python 3",
   "language": "python",
   "name": "python3"
  },
  "language_info": {
   "codemirror_mode": {
    "name": "ipython",
    "version": 3
   },
   "file_extension": ".py",
   "mimetype": "text/x-python",
   "name": "python",
   "nbconvert_exporter": "python",
   "pygments_lexer": "ipython3",
   "version": "3.8.8"
  }
 },
 "nbformat": 4,
 "nbformat_minor": 5
}
